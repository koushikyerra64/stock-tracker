{
 "cells": [
  {
   "cell_type": "code",
   "execution_count": 5,
   "id": "6f309c41-94ce-4c75-84a8-aa8a08c9f8b8",
   "metadata": {},
   "outputs": [
    {
     "name": "stdin",
     "output_type": "stream",
     "text": [
      "Enter stock symbol (AAPL/TSLA/AMZN/TCS/TATA/MSFT/GOOG) or 'done' to finish:  AMZN\n",
      "Enter quantity of AMZN:  180\n"
     ]
    },
    {
     "name": "stdout",
     "output_type": "stream",
     "text": [
      "✅ Added 180 shares of AMZN.\n"
     ]
    },
    {
     "name": "stdin",
     "output_type": "stream",
     "text": [
      "Enter stock symbol (AAPL/TSLA/AMZN/TCS/TATA/MSFT/GOOG) or 'done' to finish:  GOOG\n",
      "Enter quantity of GOOG:  300\n"
     ]
    },
    {
     "name": "stdout",
     "output_type": "stream",
     "text": [
      "✅ Added 300 shares of GOOG.\n"
     ]
    },
    {
     "name": "stdin",
     "output_type": "stream",
     "text": [
      "Enter stock symbol (AAPL/TSLA/AMZN/TCS/TATA/MSFT/GOOG) or 'done' to finish:  SAMSUNG\n"
     ]
    },
    {
     "name": "stdout",
     "output_type": "stream",
     "text": [
      "❌ Stock not found! Please choose from: ['AAPL', 'TSLA', 'AMZN', 'TCS', 'TATA', 'MSFT', 'GOOG']\n"
     ]
    },
    {
     "name": "stdin",
     "output_type": "stream",
     "text": [
      "Enter stock symbol (AAPL/TSLA/AMZN/TCS/TATA/MSFT/GOOG) or 'done' to finish:  TATA\n",
      "Enter quantity of TATA:  250\n"
     ]
    },
    {
     "name": "stdout",
     "output_type": "stream",
     "text": [
      "✅ Added 250 shares of TATA.\n"
     ]
    },
    {
     "name": "stdin",
     "output_type": "stream",
     "text": [
      "Enter stock symbol (AAPL/TSLA/AMZN/TCS/TATA/MSFT/GOOG) or 'done' to finish:  TSLA\n",
      "Enter quantity of TSLA:  190\n"
     ]
    },
    {
     "name": "stdout",
     "output_type": "stream",
     "text": [
      "✅ Added 190 shares of TSLA.\n"
     ]
    },
    {
     "name": "stdin",
     "output_type": "stream",
     "text": [
      "Enter stock symbol (AAPL/TSLA/AMZN/TCS/TATA/MSFT/GOOG) or 'done' to finish:  AAPL\n",
      "Enter quantity of AAPL:  260\n"
     ]
    },
    {
     "name": "stdout",
     "output_type": "stream",
     "text": [
      "✅ Added 260 shares of AAPL.\n"
     ]
    },
    {
     "name": "stdin",
     "output_type": "stream",
     "text": [
      "Enter stock symbol (AAPL/TSLA/AMZN/TCS/TATA/MSFT/GOOG) or 'done' to finish:  TCS\n",
      "Enter quantity of TCS:  290\n"
     ]
    },
    {
     "name": "stdout",
     "output_type": "stream",
     "text": [
      "✅ Added 290 shares of TCS.\n"
     ]
    },
    {
     "name": "stdin",
     "output_type": "stream",
     "text": [
      "Enter stock symbol (AAPL/TSLA/AMZN/TCS/TATA/MSFT/GOOG) or 'done' to finish:  done\n"
     ]
    },
    {
     "name": "stdout",
     "output_type": "stream",
     "text": [
      "\n",
      "📊 Investment Summary:\n",
      "AMZN: 180 shares × $200 = $36000\n",
      "GOOG: 300 shares × $140 = $42000\n",
      "TATA: 250 shares × $300 = $75000\n",
      "TSLA: 190 shares × $250 = $47500\n",
      "AAPL: 260 shares × $180 = $46800\n",
      "TCS: 290 shares × $280 = $81200\n",
      "\n",
      "💰 Total Investment Value = $328500\n"
     ]
    },
    {
     "name": "stdin",
     "output_type": "stream",
     "text": [
      "\n",
      "Do you want to save the result? (yes/no):  yes\n",
      "Save as txt or csv?  csv\n"
     ]
    },
    {
     "name": "stdout",
     "output_type": "stream",
     "text": [
      "📁 Saved as investment_summary.csv\n"
     ]
    }
   ],
   "source": [
    "import csv\n",
    "stock_prices = {\n",
    "    \"AAPL\": 180,\n",
    "    \"TSLA\": 250,\n",
    "    \"AMZN\": 200,\n",
    "    \"TCS\": 280,\n",
    "    \"TATA\":300,\n",
    "    \"MSFT\": 320,\n",
    "    \"GOOG\": 140\n",
    "}\n",
    "\n",
    "def stock_tracker():\n",
    "    investments = {}\n",
    "    total_value = 0\n",
    "    \n",
    "    while True:\n",
    "        stock = input(\"Enter stock symbol (AAPL/TSLA/AMZN/TCS/TATA/MSFT/GOOG) or 'done' to finish: \").upper()\n",
    "        if stock == \"DONE\":\n",
    "            break\n",
    "        \n",
    "        if stock not in stock_prices:\n",
    "            print(\"❌ Stock not found! Please choose from:\", list(stock_prices.keys()))\n",
    "            continue\n",
    "        \n",
    "        try:\n",
    "            quantity = int(input(f\"Enter quantity of {stock}: \"))\n",
    "        except ValueError:\n",
    "            print(\"❌ Please enter a valid number.\")\n",
    "            continue\n",
    "        \n",
    "        investments[stock] = investments.get(stock, 0) + quantity\n",
    "        print(f\"✅ Added {quantity} shares of {stock}.\")\n",
    "\n",
    "    print(\"\\n📊 Investment Summary:\")\n",
    "    for stock, qty in investments.items():\n",
    "        value = qty * stock_prices[stock]\n",
    "        print(f\"{stock}: {qty} shares × ${stock_prices[stock]} = ${value}\")\n",
    "        total_value += value\n",
    "\n",
    "    print(f\"\\n💰 Total Investment Value = ${total_value}\")\n",
    "\n",
    "    # Optional: Save to file\n",
    "    save_choice = input(\"\\nDo you want to save the result? (yes/no): \").lower()\n",
    "    if save_choice == \"yes\":\n",
    "        file_type = input(\"Save as txt or csv? \").lower()\n",
    "        if file_type == \"txt\":\n",
    "            with open(\"investment_summary.txt\", \"w\") as f:\n",
    "                f.write(\"Investment Summary:\\n\")\n",
    "                for stock, qty in investments.items():\n",
    "                    f.write(f\"{stock}: {qty} shares × ${stock_prices[stock]} = ${qty * stock_prices[stock]}\\n\")\n",
    "                f.write(f\"\\nTotal Investment Value = ${total_value}\\n\")\n",
    "            print(\"📁 Saved as investment_summary.txt\")\n",
    "        \n",
    "        elif file_type == \"csv\":\n",
    "            with open(\"investment_summary.csv\", \"w\", newline=\"\") as f:\n",
    "                writer = csv.writer(f)\n",
    "                writer.writerow([\"Stock\", \"Quantity\", \"Price\", \"Value\"])\n",
    "                for stock, qty in investments.items():\n",
    "                    writer.writerow([stock, qty, stock_prices[stock], qty * stock_prices[stock]])\n",
    "                writer.writerow([\"Total\", \"\", \"\", total_value])\n",
    "            print(\"📁 Saved as investment_summary.csv\")\n",
    "\n",
    "# Correct entry point\n",
    "if __name__ == \"__main__\":\n",
    "    stock_tracker()\n"
   ]
  },
  {
   "cell_type": "code",
   "execution_count": null,
   "id": "54099d95-8b49-4d71-b274-875d619ab499",
   "metadata": {},
   "outputs": [],
   "source": []
  }
 ],
 "metadata": {
  "kernelspec": {
   "display_name": "Python 3 (ipykernel)",
   "language": "python",
   "name": "python3"
  },
  "language_info": {
   "codemirror_mode": {
    "name": "ipython",
    "version": 3
   },
   "file_extension": ".py",
   "mimetype": "text/x-python",
   "name": "python",
   "nbconvert_exporter": "python",
   "pygments_lexer": "ipython3",
   "version": "3.13.5"
  }
 },
 "nbformat": 4,
 "nbformat_minor": 5
}
